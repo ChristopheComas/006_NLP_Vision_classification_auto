{
 "cells": [
  {
   "cell_type": "markdown",
   "metadata": {},
   "source": [
    "# Réalisation d'une classification automatisée d'objets\n",
    "\n",
    "## 2. Récupération des données API\n"
   ]
  },
  {
   "cell_type": "code",
   "execution_count": 5,
   "metadata": {
    "scrolled": false
   },
   "outputs": [],
   "source": [
    "# Bibliothèque standard\n",
    "import os\n",
    "from os import listdir\n",
    "from glob import glob\n",
    "import re\n",
    "import time\n",
    "from time import strftime\n",
    "from datetime import datetime\n",
    "import requests\n",
    "import pandas as pd"
   ]
  },
  {
   "cell_type": "markdown",
   "metadata": {},
   "source": [
    "# Récupération des produits à base de champagne\n",
    "\n",
    "Utilisation de la library request après avoir créer un compte sur EDAMAM pour obtenir la key / id de l'API."
   ]
  },
  {
   "cell_type": "code",
   "execution_count": 4,
   "metadata": {},
   "outputs": [
    {
     "name": "stdout",
     "output_type": "stream",
     "text": [
      "Les données ont été extraites et enregistrées dans 'food_data.csv'.\n"
     ]
    }
   ],
   "source": [
    "app_id = 'b83d4161'\n",
    "app_key = 'ebbbae732bd4f4e3ef4c1caa38fcbd47'\n",
    "\n",
    "# The food item you want to search for\n",
    "query = 'champagne'\n",
    "\n",
    "# The API endpoint for the food database\n",
    "url = f'https://api.edamam.com/api/food-database/v2/parser?ingr={query}&app_id={app_id}&app_key={app_key}'\n",
    "\n",
    "# Make a GET request to the API\n",
    "response = requests.get(url)\n",
    "\n",
    "# Vérifier si la requête a réussi\n",
    "if response.status_code == 200:\n",
    "    data = response.json()\n",
    "    \n",
    "    # Préparer une liste pour stocker les informations des aliments\n",
    "    food_list = []\n",
    "\n",
    "    # Extraire les 10 premiers produits\n",
    "    for item in data.get('hints', [])[:10]:\n",
    "        food = item.get('food', {})\n",
    "        food_info = {\n",
    "            'foodId': food.get('foodId', 'N/A'),\n",
    "            'label': food.get('label', 'N/A'),\n",
    "            'category': food.get('category', 'N/A'),\n",
    "            'foodContentsLabel': food.get('foodContentsLabel', 'N/A'),\n",
    "            'image': food.get('image', 'N/A')\n",
    "        }\n",
    "        food_list.append(food_info)\n",
    "\n",
    "    # Convertir la liste en DataFrame Pandas\n",
    "    df = pd.DataFrame(food_list)\n",
    "\n",
    "    # Sauvegarder les données dans un fichier CSV\n",
    "    df.to_csv('food_data.csv', index=False, sep='*')\n",
    "    print(\"Les données ont été extraites et enregistrées dans 'food_data.csv'.\")\n",
    "else:\n",
    "    print(f\"Erreur : {response.status_code}\")"
   ]
  },
  {
   "cell_type": "code",
   "execution_count": null,
   "metadata": {},
   "outputs": [],
   "source": []
  }
 ],
 "metadata": {
  "hide_input": false,
  "kernelspec": {
   "display_name": "6_market",
   "language": "python",
   "name": "6_market"
  },
  "language_info": {
   "codemirror_mode": {
    "name": "ipython",
    "version": 3
   },
   "file_extension": ".py",
   "mimetype": "text/x-python",
   "name": "python",
   "nbconvert_exporter": "python",
   "pygments_lexer": "ipython3",
   "version": "3.12.4"
  },
  "toc": {
   "base_numbering": 1,
   "nav_menu": {},
   "number_sections": true,
   "sideBar": true,
   "skip_h1_title": false,
   "title_cell": "Table of Contents",
   "title_sidebar": "Contents",
   "toc_cell": false,
   "toc_position": {
    "height": "calc(100% - 180px)",
    "left": "10px",
    "top": "150px",
    "width": "256px"
   },
   "toc_section_display": true,
   "toc_window_display": true
  },
  "varInspector": {
   "cols": {
    "lenName": 16,
    "lenType": 16,
    "lenVar": 40
   },
   "kernels_config": {
    "python": {
     "delete_cmd_postfix": "",
     "delete_cmd_prefix": "del ",
     "library": "var_list.py",
     "varRefreshCmd": "print(var_dic_list())"
    },
    "r": {
     "delete_cmd_postfix": ") ",
     "delete_cmd_prefix": "rm(",
     "library": "var_list.r",
     "varRefreshCmd": "cat(var_dic_list()) "
    }
   },
   "types_to_exclude": [
    "module",
    "function",
    "builtin_function_or_method",
    "instance",
    "_Feature"
   ],
   "window_display": false
  }
 },
 "nbformat": 4,
 "nbformat_minor": 4
}
